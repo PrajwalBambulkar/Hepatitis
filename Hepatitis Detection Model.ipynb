{
 "cells": [
  {
   "cell_type": "markdown",
   "id": "5322a6da",
   "metadata": {},
   "source": [
    "# Hepatitis C virus "
   ]
  },
  {
   "cell_type": "markdown",
   "id": "58e259c5",
   "metadata": {},
   "source": [
    "## 1) Context\n",
    "- The data set contains laboratory values of blood donors and Hepatitis C patients and demographic values like age. The data was obtained from \n",
    "  Kaggle: https://www.kaggle.com/datasets/fedesoriano/hepatitis-c-dataset"
   ]
  },
  {
   "cell_type": "markdown",
   "id": "f7914147",
   "metadata": {},
   "source": [
    "### 2) Problem Statement = To detect Hepatitis C in early stage by some standard data."
   ]
  },
  {
   "cell_type": "markdown",
   "id": "c3d5b196",
   "metadata": {},
   "source": [
    "- Hepatitis C is one of the most commonly spread infections during Blood donation. Its detection is often complex, expensive and time-taking.\n",
    "\n",
    "- So rather than going through traditional pathway, new approaches are trying to detect Hepatitis C status using Blood biomarkers. In certain cases, attempts have been made to even sub-categorize the stage of Hepatitis C.\n",
    "\n",
    "- Hepatitis C is a dangerous disease, with high fatility, hence prevention is the best remedy the keep in mind."
   ]
  },
  {
   "cell_type": "markdown",
   "id": "ffab9694",
   "metadata": {},
   "source": [
    "### 3) 615 cases of laboratory values of blood donors and Hepatitis C patients and demographic values like age.\n",
    "\n",
    "- Data Set Characteristics: Multivariate\n",
    "- Number of Attributes: 14\n",
    "- Associated Tasks: Classification, Regression.\n",
    "\n",
    "- Data Set Information:\n",
    "-     The target attribute for classification is Category (blood donors vs. Hepatitis C (including its progress ('just' Hepatitis C, Fibrosis, Cirrhosis)."
   ]
  },
  {
   "cell_type": "markdown",
   "id": "424d1c7d",
   "metadata": {},
   "source": [
    "### This dataset contains 14 columns, labelled into 4 classes."
   ]
  },
  {
   "cell_type": "markdown",
   "id": "c2280011",
   "metadata": {},
   "source": [
    "### Classes\n",
    "- Blood donors\n",
    "- Hepatitis C\n",
    "   - 'just' Hepatitis C\n",
    "   - with Fibrosis\n",
    "   - with Cirrhosis\n",
    "- (values: '0=Blood Donor', '0s=suspect Blood Donor', '1=Hepatitis', '2=Fibrosis', '3=Cirrhosis')"
   ]
  },
  {
   "cell_type": "markdown",
   "id": "d8fa4181",
   "metadata": {},
   "source": [
    "## 4) Feature Content\n",
    "#### 1)X (Patient ID/No.)\n",
    "#### 2)Category (diagnosis)\n",
    "#### 3)Age (in years)\n",
    "#### 4)Sex (f,m)\n",
    "#### 5)ALB - Albumin \n",
    "#### 6)ALP - Alkaline phosphatase \n",
    "#### 7)ALT - Mild alanine aminotransferase\n",
    "#### 8)AST(SGOT) - erum glutamic-oxaloacetic transaminase,\n",
    "#### 9)BIL - Bilirubin \n",
    "#### 10)CHE - chronic hepatitis E\n",
    "#### 11)CHOL - cholesterol \n",
    "#### 12)CREA - creatinine\n",
    "#### 13)GGT -  gamma-glutamyl transferase\n",
    "#### 14)PROT - protein "
   ]
  },
  {
   "cell_type": "markdown",
   "id": "c57295ef",
   "metadata": {},
   "source": [
    "- The target attribute for classification is Category (2): blood donors vs. Hepatitis C patients (including its progress ('just' Hepatitis C, Fibrosis, Cirrhosis)."
   ]
  },
  {
   "cell_type": "markdown",
   "id": "50581d4b",
   "metadata": {},
   "source": [
    "## 5) Importing Libraries"
   ]
  },
  {
   "cell_type": "code",
   "execution_count": 149,
   "id": "1d6a750c",
   "metadata": {},
   "outputs": [],
   "source": [
    "import pandas as pd\n",
    "import numpy as np\n",
    "import matplotlib.pyplot as plt\n",
    "import seaborn  as sns \n",
    "\n",
    "import warnings\n",
    "warnings.filterwarnings('ignore')"
   ]
  },
  {
   "cell_type": "code",
   "execution_count": 150,
   "id": "de287759",
   "metadata": {},
   "outputs": [],
   "source": [
    "df = pd.read_csv('heptC.csv')"
   ]
  },
  {
   "cell_type": "code",
   "execution_count": 151,
   "id": "e1c7885c",
   "metadata": {
    "scrolled": true
   },
   "outputs": [
    {
     "data": {
      "text/html": [
       "<div>\n",
       "<style scoped>\n",
       "    .dataframe tbody tr th:only-of-type {\n",
       "        vertical-align: middle;\n",
       "    }\n",
       "\n",
       "    .dataframe tbody tr th {\n",
       "        vertical-align: top;\n",
       "    }\n",
       "\n",
       "    .dataframe thead th {\n",
       "        text-align: right;\n",
       "    }\n",
       "</style>\n",
       "<table border=\"1\" class=\"dataframe\">\n",
       "  <thead>\n",
       "    <tr style=\"text-align: right;\">\n",
       "      <th></th>\n",
       "      <th>Unnamed: 0</th>\n",
       "      <th>Category</th>\n",
       "      <th>Age</th>\n",
       "      <th>Sex</th>\n",
       "      <th>ALB</th>\n",
       "      <th>ALP</th>\n",
       "      <th>ALT</th>\n",
       "      <th>AST</th>\n",
       "      <th>BIL</th>\n",
       "      <th>CHE</th>\n",
       "      <th>CHOL</th>\n",
       "      <th>CREA</th>\n",
       "      <th>GGT</th>\n",
       "      <th>PROT</th>\n",
       "    </tr>\n",
       "  </thead>\n",
       "  <tbody>\n",
       "    <tr>\n",
       "      <th>0</th>\n",
       "      <td>1</td>\n",
       "      <td>0=Blood Donor</td>\n",
       "      <td>32</td>\n",
       "      <td>m</td>\n",
       "      <td>38.5</td>\n",
       "      <td>52.5</td>\n",
       "      <td>7.7</td>\n",
       "      <td>22.1</td>\n",
       "      <td>7.5</td>\n",
       "      <td>6.93</td>\n",
       "      <td>3.23</td>\n",
       "      <td>106.0</td>\n",
       "      <td>12.1</td>\n",
       "      <td>69.0</td>\n",
       "    </tr>\n",
       "    <tr>\n",
       "      <th>1</th>\n",
       "      <td>2</td>\n",
       "      <td>0=Blood Donor</td>\n",
       "      <td>32</td>\n",
       "      <td>m</td>\n",
       "      <td>38.5</td>\n",
       "      <td>70.3</td>\n",
       "      <td>18.0</td>\n",
       "      <td>24.7</td>\n",
       "      <td>3.9</td>\n",
       "      <td>11.17</td>\n",
       "      <td>4.80</td>\n",
       "      <td>74.0</td>\n",
       "      <td>15.6</td>\n",
       "      <td>76.5</td>\n",
       "    </tr>\n",
       "    <tr>\n",
       "      <th>2</th>\n",
       "      <td>3</td>\n",
       "      <td>0=Blood Donor</td>\n",
       "      <td>32</td>\n",
       "      <td>m</td>\n",
       "      <td>46.9</td>\n",
       "      <td>74.7</td>\n",
       "      <td>36.2</td>\n",
       "      <td>52.6</td>\n",
       "      <td>6.1</td>\n",
       "      <td>8.84</td>\n",
       "      <td>5.20</td>\n",
       "      <td>86.0</td>\n",
       "      <td>33.2</td>\n",
       "      <td>79.3</td>\n",
       "    </tr>\n",
       "    <tr>\n",
       "      <th>3</th>\n",
       "      <td>4</td>\n",
       "      <td>0=Blood Donor</td>\n",
       "      <td>32</td>\n",
       "      <td>m</td>\n",
       "      <td>43.2</td>\n",
       "      <td>52.0</td>\n",
       "      <td>30.6</td>\n",
       "      <td>22.6</td>\n",
       "      <td>18.9</td>\n",
       "      <td>7.33</td>\n",
       "      <td>4.74</td>\n",
       "      <td>80.0</td>\n",
       "      <td>33.8</td>\n",
       "      <td>75.7</td>\n",
       "    </tr>\n",
       "    <tr>\n",
       "      <th>4</th>\n",
       "      <td>5</td>\n",
       "      <td>0=Blood Donor</td>\n",
       "      <td>32</td>\n",
       "      <td>m</td>\n",
       "      <td>39.2</td>\n",
       "      <td>74.1</td>\n",
       "      <td>32.6</td>\n",
       "      <td>24.8</td>\n",
       "      <td>9.6</td>\n",
       "      <td>9.15</td>\n",
       "      <td>4.32</td>\n",
       "      <td>76.0</td>\n",
       "      <td>29.9</td>\n",
       "      <td>68.7</td>\n",
       "    </tr>\n",
       "    <tr>\n",
       "      <th>...</th>\n",
       "      <td>...</td>\n",
       "      <td>...</td>\n",
       "      <td>...</td>\n",
       "      <td>...</td>\n",
       "      <td>...</td>\n",
       "      <td>...</td>\n",
       "      <td>...</td>\n",
       "      <td>...</td>\n",
       "      <td>...</td>\n",
       "      <td>...</td>\n",
       "      <td>...</td>\n",
       "      <td>...</td>\n",
       "      <td>...</td>\n",
       "      <td>...</td>\n",
       "    </tr>\n",
       "    <tr>\n",
       "      <th>610</th>\n",
       "      <td>611</td>\n",
       "      <td>3=Cirrhosis</td>\n",
       "      <td>62</td>\n",
       "      <td>f</td>\n",
       "      <td>32.0</td>\n",
       "      <td>416.6</td>\n",
       "      <td>5.9</td>\n",
       "      <td>110.3</td>\n",
       "      <td>50.0</td>\n",
       "      <td>5.57</td>\n",
       "      <td>6.30</td>\n",
       "      <td>55.7</td>\n",
       "      <td>650.9</td>\n",
       "      <td>68.5</td>\n",
       "    </tr>\n",
       "    <tr>\n",
       "      <th>611</th>\n",
       "      <td>612</td>\n",
       "      <td>3=Cirrhosis</td>\n",
       "      <td>64</td>\n",
       "      <td>f</td>\n",
       "      <td>24.0</td>\n",
       "      <td>102.8</td>\n",
       "      <td>2.9</td>\n",
       "      <td>44.4</td>\n",
       "      <td>20.0</td>\n",
       "      <td>1.54</td>\n",
       "      <td>3.02</td>\n",
       "      <td>63.0</td>\n",
       "      <td>35.9</td>\n",
       "      <td>71.3</td>\n",
       "    </tr>\n",
       "    <tr>\n",
       "      <th>612</th>\n",
       "      <td>613</td>\n",
       "      <td>3=Cirrhosis</td>\n",
       "      <td>64</td>\n",
       "      <td>f</td>\n",
       "      <td>29.0</td>\n",
       "      <td>87.3</td>\n",
       "      <td>3.5</td>\n",
       "      <td>99.0</td>\n",
       "      <td>48.0</td>\n",
       "      <td>1.66</td>\n",
       "      <td>3.63</td>\n",
       "      <td>66.7</td>\n",
       "      <td>64.2</td>\n",
       "      <td>82.0</td>\n",
       "    </tr>\n",
       "    <tr>\n",
       "      <th>613</th>\n",
       "      <td>614</td>\n",
       "      <td>3=Cirrhosis</td>\n",
       "      <td>46</td>\n",
       "      <td>f</td>\n",
       "      <td>33.0</td>\n",
       "      <td>NaN</td>\n",
       "      <td>39.0</td>\n",
       "      <td>62.0</td>\n",
       "      <td>20.0</td>\n",
       "      <td>3.56</td>\n",
       "      <td>4.20</td>\n",
       "      <td>52.0</td>\n",
       "      <td>50.0</td>\n",
       "      <td>71.0</td>\n",
       "    </tr>\n",
       "    <tr>\n",
       "      <th>614</th>\n",
       "      <td>615</td>\n",
       "      <td>3=Cirrhosis</td>\n",
       "      <td>59</td>\n",
       "      <td>f</td>\n",
       "      <td>36.0</td>\n",
       "      <td>NaN</td>\n",
       "      <td>100.0</td>\n",
       "      <td>80.0</td>\n",
       "      <td>12.0</td>\n",
       "      <td>9.07</td>\n",
       "      <td>5.30</td>\n",
       "      <td>67.0</td>\n",
       "      <td>34.0</td>\n",
       "      <td>68.0</td>\n",
       "    </tr>\n",
       "  </tbody>\n",
       "</table>\n",
       "<p>615 rows × 14 columns</p>\n",
       "</div>"
      ],
      "text/plain": [
       "     Unnamed: 0       Category  Age Sex   ALB    ALP    ALT    AST   BIL  \\\n",
       "0             1  0=Blood Donor   32   m  38.5   52.5    7.7   22.1   7.5   \n",
       "1             2  0=Blood Donor   32   m  38.5   70.3   18.0   24.7   3.9   \n",
       "2             3  0=Blood Donor   32   m  46.9   74.7   36.2   52.6   6.1   \n",
       "3             4  0=Blood Donor   32   m  43.2   52.0   30.6   22.6  18.9   \n",
       "4             5  0=Blood Donor   32   m  39.2   74.1   32.6   24.8   9.6   \n",
       "..          ...            ...  ...  ..   ...    ...    ...    ...   ...   \n",
       "610         611    3=Cirrhosis   62   f  32.0  416.6    5.9  110.3  50.0   \n",
       "611         612    3=Cirrhosis   64   f  24.0  102.8    2.9   44.4  20.0   \n",
       "612         613    3=Cirrhosis   64   f  29.0   87.3    3.5   99.0  48.0   \n",
       "613         614    3=Cirrhosis   46   f  33.0    NaN   39.0   62.0  20.0   \n",
       "614         615    3=Cirrhosis   59   f  36.0    NaN  100.0   80.0  12.0   \n",
       "\n",
       "       CHE  CHOL   CREA    GGT  PROT  \n",
       "0     6.93  3.23  106.0   12.1  69.0  \n",
       "1    11.17  4.80   74.0   15.6  76.5  \n",
       "2     8.84  5.20   86.0   33.2  79.3  \n",
       "3     7.33  4.74   80.0   33.8  75.7  \n",
       "4     9.15  4.32   76.0   29.9  68.7  \n",
       "..     ...   ...    ...    ...   ...  \n",
       "610   5.57  6.30   55.7  650.9  68.5  \n",
       "611   1.54  3.02   63.0   35.9  71.3  \n",
       "612   1.66  3.63   66.7   64.2  82.0  \n",
       "613   3.56  4.20   52.0   50.0  71.0  \n",
       "614   9.07  5.30   67.0   34.0  68.0  \n",
       "\n",
       "[615 rows x 14 columns]"
      ]
     },
     "execution_count": 151,
     "metadata": {},
     "output_type": "execute_result"
    }
   ],
   "source": [
    "df"
   ]
  },
  {
   "cell_type": "markdown",
   "id": "c1991eb3",
   "metadata": {},
   "source": [
    "## 6)Data Introduction"
   ]
  },
  {
   "cell_type": "code",
   "execution_count": 152,
   "id": "50e618a4",
   "metadata": {},
   "outputs": [
    {
     "name": "stdout",
     "output_type": "stream",
     "text": [
      "<class 'pandas.core.frame.DataFrame'>\n",
      "RangeIndex: 615 entries, 0 to 614\n",
      "Data columns (total 14 columns):\n",
      " #   Column      Non-Null Count  Dtype  \n",
      "---  ------      --------------  -----  \n",
      " 0   Unnamed: 0  615 non-null    int64  \n",
      " 1   Category    615 non-null    object \n",
      " 2   Age         615 non-null    int64  \n",
      " 3   Sex         615 non-null    object \n",
      " 4   ALB         614 non-null    float64\n",
      " 5   ALP         597 non-null    float64\n",
      " 6   ALT         614 non-null    float64\n",
      " 7   AST         615 non-null    float64\n",
      " 8   BIL         615 non-null    float64\n",
      " 9   CHE         615 non-null    float64\n",
      " 10  CHOL        605 non-null    float64\n",
      " 11  CREA        615 non-null    float64\n",
      " 12  GGT         615 non-null    float64\n",
      " 13  PROT        614 non-null    float64\n",
      "dtypes: float64(10), int64(2), object(2)\n",
      "memory usage: 67.4+ KB\n"
     ]
    }
   ],
   "source": [
    "df.info()"
   ]
  },
  {
   "cell_type": "markdown",
   "id": "6743f7ed",
   "metadata": {},
   "source": [
    "### 7) Null Value and reduction."
   ]
  },
  {
   "cell_type": "code",
   "execution_count": 153,
   "id": "fdfe5f88",
   "metadata": {},
   "outputs": [
    {
     "data": {
      "text/plain": [
       "Unnamed: 0     0\n",
       "Category       0\n",
       "Age            0\n",
       "Sex            0\n",
       "ALB            1\n",
       "ALP           18\n",
       "ALT            1\n",
       "AST            0\n",
       "BIL            0\n",
       "CHE            0\n",
       "CHOL          10\n",
       "CREA           0\n",
       "GGT            0\n",
       "PROT           1\n",
       "dtype: int64"
      ]
     },
     "execution_count": 153,
     "metadata": {},
     "output_type": "execute_result"
    }
   ],
   "source": [
    "df.isnull().sum()"
   ]
  },
  {
   "cell_type": "markdown",
   "id": "1abc7cbf",
   "metadata": {},
   "source": [
    "## 8) Replace NULL Value from Mean of feature."
   ]
  },
  {
   "cell_type": "code",
   "execution_count": 154,
   "id": "980fea29",
   "metadata": {},
   "outputs": [
    {
     "data": {
      "text/plain": [
       "Unnamed: 0    0.000000\n",
       "Category      0.000000\n",
       "Age           0.000000\n",
       "Sex           0.000000\n",
       "ALB           0.001626\n",
       "ALP           0.029268\n",
       "ALT           0.001626\n",
       "AST           0.000000\n",
       "BIL           0.000000\n",
       "CHE           0.000000\n",
       "CHOL          0.016260\n",
       "CREA          0.000000\n",
       "GGT           0.000000\n",
       "PROT          0.001626\n",
       "dtype: float64"
      ]
     },
     "execution_count": 154,
     "metadata": {},
     "output_type": "execute_result"
    }
   ],
   "source": [
    "df.isna().mean()"
   ]
  },
  {
   "cell_type": "code",
   "execution_count": 155,
   "id": "1e9824e5",
   "metadata": {},
   "outputs": [],
   "source": [
    "df['ALB'].fillna('0.001626', inplace= True)"
   ]
  },
  {
   "cell_type": "code",
   "execution_count": 156,
   "id": "3c00689f",
   "metadata": {},
   "outputs": [],
   "source": [
    "df['ALP'].fillna('0.029268', inplace= True)"
   ]
  },
  {
   "cell_type": "code",
   "execution_count": 157,
   "id": "1ef57625",
   "metadata": {},
   "outputs": [],
   "source": [
    "df['ALT'].fillna('0.001626', inplace= True)"
   ]
  },
  {
   "cell_type": "code",
   "execution_count": 158,
   "id": "0eeada13",
   "metadata": {},
   "outputs": [],
   "source": [
    "df['CHOL'].fillna('0.016260', inplace= True)"
   ]
  },
  {
   "cell_type": "code",
   "execution_count": 159,
   "id": "37ee7c2c",
   "metadata": {},
   "outputs": [],
   "source": [
    "df['PROT'].fillna('0.001626', inplace= True)"
   ]
  },
  {
   "cell_type": "code",
   "execution_count": 160,
   "id": "6d2cfda2",
   "metadata": {},
   "outputs": [
    {
     "data": {
      "text/plain": [
       "0"
      ]
     },
     "execution_count": 160,
     "metadata": {},
     "output_type": "execute_result"
    }
   ],
   "source": [
    "df.isnull().sum().sum()"
   ]
  },
  {
   "cell_type": "markdown",
   "id": "37c9e1f3",
   "metadata": {},
   "source": [
    "- Now our data is clean and there is no null value."
   ]
  },
  {
   "cell_type": "code",
   "execution_count": 161,
   "id": "8105cd93",
   "metadata": {},
   "outputs": [
    {
     "data": {
      "text/plain": [
       "0=Blood Donor             533\n",
       "3=Cirrhosis                30\n",
       "1=Hepatitis                24\n",
       "2=Fibrosis                 21\n",
       "0s=suspect Blood Donor      7\n",
       "Name: Category, dtype: int64"
      ]
     },
     "execution_count": 161,
     "metadata": {},
     "output_type": "execute_result"
    }
   ],
   "source": [
    "df['Category'].value_counts()"
   ]
  },
  {
   "cell_type": "code",
   "execution_count": 190,
   "id": "2c8cc21f",
   "metadata": {},
   "outputs": [],
   "source": [
    "df.Category.replace({'0=Blood Donor':0, '1=Hepatitis':1, '2=Fibrosis':2, '0s=suspect Blood Donor':4, '3=Cirrhosis':3 }, inplace=True)"
   ]
  },
  {
   "cell_type": "code",
   "execution_count": 191,
   "id": "fae4fd3a",
   "metadata": {},
   "outputs": [
    {
     "data": {
      "text/plain": [
       "1    377\n",
       "0    238\n",
       "Name: Sex, dtype: int64"
      ]
     },
     "execution_count": 191,
     "metadata": {},
     "output_type": "execute_result"
    }
   ],
   "source": [
    "df.Sex.value_counts()"
   ]
  },
  {
   "cell_type": "code",
   "execution_count": 192,
   "id": "06128386",
   "metadata": {},
   "outputs": [],
   "source": [
    "df.Sex.replace({'m':1, 'f':0}, inplace=True)"
   ]
  },
  {
   "cell_type": "code",
   "execution_count": 193,
   "id": "49403535",
   "metadata": {},
   "outputs": [
    {
     "data": {
      "text/plain": [
       "1    377\n",
       "0    238\n",
       "Name: Sex, dtype: int64"
      ]
     },
     "execution_count": 193,
     "metadata": {},
     "output_type": "execute_result"
    }
   ],
   "source": [
    "df['Sex'].value_counts()"
   ]
  },
  {
   "cell_type": "code",
   "execution_count": 194,
   "id": "9da7b1f1",
   "metadata": {},
   "outputs": [
    {
     "name": "stdout",
     "output_type": "stream",
     "text": [
      "<class 'pandas.core.frame.DataFrame'>\n",
      "RangeIndex: 615 entries, 0 to 614\n",
      "Data columns (total 14 columns):\n",
      " #   Column      Non-Null Count  Dtype  \n",
      "---  ------      --------------  -----  \n",
      " 0   Unnamed: 0  615 non-null    int64  \n",
      " 1   Category    615 non-null    int64  \n",
      " 2   Age         615 non-null    int64  \n",
      " 3   Sex         615 non-null    int64  \n",
      " 4   ALB         615 non-null    object \n",
      " 5   ALP         615 non-null    object \n",
      " 6   ALT         615 non-null    object \n",
      " 7   AST         615 non-null    float64\n",
      " 8   BIL         615 non-null    float64\n",
      " 9   CHE         615 non-null    float64\n",
      " 10  CHOL        615 non-null    object \n",
      " 11  CREA        615 non-null    float64\n",
      " 12  GGT         615 non-null    float64\n",
      " 13  PROT        615 non-null    object \n",
      "dtypes: float64(5), int64(4), object(5)\n",
      "memory usage: 67.4+ KB\n"
     ]
    }
   ],
   "source": [
    "df.info()"
   ]
  },
  {
   "cell_type": "code",
   "execution_count": 195,
   "id": "a99e7cf5",
   "metadata": {},
   "outputs": [],
   "source": [
    "#df.drop('Unnamed: 0',axis=1,inplace=True)"
   ]
  },
  {
   "cell_type": "markdown",
   "id": "6fa00193",
   "metadata": {},
   "source": [
    "## 9) Statistical Information"
   ]
  },
  {
   "cell_type": "code",
   "execution_count": 196,
   "id": "6e9bbb73",
   "metadata": {},
   "outputs": [
    {
     "data": {
      "text/html": [
       "<div>\n",
       "<style scoped>\n",
       "    .dataframe tbody tr th:only-of-type {\n",
       "        vertical-align: middle;\n",
       "    }\n",
       "\n",
       "    .dataframe tbody tr th {\n",
       "        vertical-align: top;\n",
       "    }\n",
       "\n",
       "    .dataframe thead th {\n",
       "        text-align: right;\n",
       "    }\n",
       "</style>\n",
       "<table border=\"1\" class=\"dataframe\">\n",
       "  <thead>\n",
       "    <tr style=\"text-align: right;\">\n",
       "      <th></th>\n",
       "      <th>Unnamed: 0</th>\n",
       "      <th>Category</th>\n",
       "      <th>Age</th>\n",
       "      <th>Sex</th>\n",
       "      <th>AST</th>\n",
       "      <th>BIL</th>\n",
       "      <th>CHE</th>\n",
       "      <th>CREA</th>\n",
       "      <th>GGT</th>\n",
       "    </tr>\n",
       "  </thead>\n",
       "  <tbody>\n",
       "    <tr>\n",
       "      <th>count</th>\n",
       "      <td>615.000000</td>\n",
       "      <td>615.000000</td>\n",
       "      <td>615.000000</td>\n",
       "      <td>615.000000</td>\n",
       "      <td>615.000000</td>\n",
       "      <td>615.000000</td>\n",
       "      <td>615.000000</td>\n",
       "      <td>615.000000</td>\n",
       "      <td>615.000000</td>\n",
       "    </tr>\n",
       "    <tr>\n",
       "      <th>mean</th>\n",
       "      <td>308.000000</td>\n",
       "      <td>0.299187</td>\n",
       "      <td>47.408130</td>\n",
       "      <td>0.613008</td>\n",
       "      <td>34.786341</td>\n",
       "      <td>11.396748</td>\n",
       "      <td>8.196634</td>\n",
       "      <td>81.287805</td>\n",
       "      <td>39.533171</td>\n",
       "    </tr>\n",
       "    <tr>\n",
       "      <th>std</th>\n",
       "      <td>177.679487</td>\n",
       "      <td>0.841657</td>\n",
       "      <td>10.055105</td>\n",
       "      <td>0.487458</td>\n",
       "      <td>33.090690</td>\n",
       "      <td>19.673150</td>\n",
       "      <td>2.205657</td>\n",
       "      <td>49.756166</td>\n",
       "      <td>54.661071</td>\n",
       "    </tr>\n",
       "    <tr>\n",
       "      <th>min</th>\n",
       "      <td>1.000000</td>\n",
       "      <td>0.000000</td>\n",
       "      <td>19.000000</td>\n",
       "      <td>0.000000</td>\n",
       "      <td>10.600000</td>\n",
       "      <td>0.800000</td>\n",
       "      <td>1.420000</td>\n",
       "      <td>8.000000</td>\n",
       "      <td>4.500000</td>\n",
       "    </tr>\n",
       "    <tr>\n",
       "      <th>25%</th>\n",
       "      <td>154.500000</td>\n",
       "      <td>0.000000</td>\n",
       "      <td>39.000000</td>\n",
       "      <td>0.000000</td>\n",
       "      <td>21.600000</td>\n",
       "      <td>5.300000</td>\n",
       "      <td>6.935000</td>\n",
       "      <td>67.000000</td>\n",
       "      <td>15.700000</td>\n",
       "    </tr>\n",
       "    <tr>\n",
       "      <th>50%</th>\n",
       "      <td>308.000000</td>\n",
       "      <td>0.000000</td>\n",
       "      <td>47.000000</td>\n",
       "      <td>1.000000</td>\n",
       "      <td>25.900000</td>\n",
       "      <td>7.300000</td>\n",
       "      <td>8.260000</td>\n",
       "      <td>77.000000</td>\n",
       "      <td>23.300000</td>\n",
       "    </tr>\n",
       "    <tr>\n",
       "      <th>75%</th>\n",
       "      <td>461.500000</td>\n",
       "      <td>0.000000</td>\n",
       "      <td>54.000000</td>\n",
       "      <td>1.000000</td>\n",
       "      <td>32.900000</td>\n",
       "      <td>11.200000</td>\n",
       "      <td>9.590000</td>\n",
       "      <td>88.000000</td>\n",
       "      <td>40.200000</td>\n",
       "    </tr>\n",
       "    <tr>\n",
       "      <th>max</th>\n",
       "      <td>615.000000</td>\n",
       "      <td>4.000000</td>\n",
       "      <td>77.000000</td>\n",
       "      <td>1.000000</td>\n",
       "      <td>324.000000</td>\n",
       "      <td>254.000000</td>\n",
       "      <td>16.410000</td>\n",
       "      <td>1079.100000</td>\n",
       "      <td>650.900000</td>\n",
       "    </tr>\n",
       "  </tbody>\n",
       "</table>\n",
       "</div>"
      ],
      "text/plain": [
       "       Unnamed: 0    Category         Age         Sex         AST         BIL  \\\n",
       "count  615.000000  615.000000  615.000000  615.000000  615.000000  615.000000   \n",
       "mean   308.000000    0.299187   47.408130    0.613008   34.786341   11.396748   \n",
       "std    177.679487    0.841657   10.055105    0.487458   33.090690   19.673150   \n",
       "min      1.000000    0.000000   19.000000    0.000000   10.600000    0.800000   \n",
       "25%    154.500000    0.000000   39.000000    0.000000   21.600000    5.300000   \n",
       "50%    308.000000    0.000000   47.000000    1.000000   25.900000    7.300000   \n",
       "75%    461.500000    0.000000   54.000000    1.000000   32.900000   11.200000   \n",
       "max    615.000000    4.000000   77.000000    1.000000  324.000000  254.000000   \n",
       "\n",
       "              CHE         CREA         GGT  \n",
       "count  615.000000   615.000000  615.000000  \n",
       "mean     8.196634    81.287805   39.533171  \n",
       "std      2.205657    49.756166   54.661071  \n",
       "min      1.420000     8.000000    4.500000  \n",
       "25%      6.935000    67.000000   15.700000  \n",
       "50%      8.260000    77.000000   23.300000  \n",
       "75%      9.590000    88.000000   40.200000  \n",
       "max     16.410000  1079.100000  650.900000  "
      ]
     },
     "execution_count": 196,
     "metadata": {},
     "output_type": "execute_result"
    }
   ],
   "source": [
    "df.describe()"
   ]
  },
  {
   "cell_type": "code",
   "execution_count": 197,
   "id": "d7e594fc",
   "metadata": {},
   "outputs": [
    {
     "data": {
      "text/plain": [
       "0"
      ]
     },
     "execution_count": 197,
     "metadata": {},
     "output_type": "execute_result"
    }
   ],
   "source": [
    "df.duplicated().sum()"
   ]
  },
  {
   "cell_type": "markdown",
   "id": "618d4d64",
   "metadata": {},
   "source": [
    "- There is no redundancy in our dataset."
   ]
  },
  {
   "cell_type": "code",
   "execution_count": 198,
   "id": "e4e9d1cc",
   "metadata": {},
   "outputs": [
    {
     "data": {
      "text/html": [
       "<div>\n",
       "<style scoped>\n",
       "    .dataframe tbody tr th:only-of-type {\n",
       "        vertical-align: middle;\n",
       "    }\n",
       "\n",
       "    .dataframe tbody tr th {\n",
       "        vertical-align: top;\n",
       "    }\n",
       "\n",
       "    .dataframe thead th {\n",
       "        text-align: right;\n",
       "    }\n",
       "</style>\n",
       "<table border=\"1\" class=\"dataframe\">\n",
       "  <thead>\n",
       "    <tr style=\"text-align: right;\">\n",
       "      <th></th>\n",
       "      <th>Unnamed: 0</th>\n",
       "      <th>Category</th>\n",
       "      <th>Age</th>\n",
       "      <th>Sex</th>\n",
       "      <th>AST</th>\n",
       "      <th>BIL</th>\n",
       "      <th>CHE</th>\n",
       "      <th>CREA</th>\n",
       "      <th>GGT</th>\n",
       "    </tr>\n",
       "  </thead>\n",
       "  <tbody>\n",
       "    <tr>\n",
       "      <th>Unnamed: 0</th>\n",
       "      <td>31570.000000</td>\n",
       "      <td>81.138436</td>\n",
       "      <td>751.218241</td>\n",
       "      <td>-51.845277</td>\n",
       "      <td>1955.686808</td>\n",
       "      <td>634.294300</td>\n",
       "      <td>-106.028355</td>\n",
       "      <td>-229.738599</td>\n",
       "      <td>2406.485179</td>\n",
       "    </tr>\n",
       "    <tr>\n",
       "      <th>Category</th>\n",
       "      <td>81.138436</td>\n",
       "      <td>0.708387</td>\n",
       "      <td>1.348378</td>\n",
       "      <td>0.028024</td>\n",
       "      <td>17.076894</td>\n",
       "      <td>6.995437</td>\n",
       "      <td>-0.622509</td>\n",
       "      <td>6.633133</td>\n",
       "      <td>23.096086</td>\n",
       "    </tr>\n",
       "    <tr>\n",
       "      <th>Age</th>\n",
       "      <td>751.218241</td>\n",
       "      <td>1.348378</td>\n",
       "      <td>101.105146</td>\n",
       "      <td>-0.120301</td>\n",
       "      <td>29.501838</td>\n",
       "      <td>6.427388</td>\n",
       "      <td>-1.665432</td>\n",
       "      <td>-11.154950</td>\n",
       "      <td>84.140023</td>\n",
       "    </tr>\n",
       "    <tr>\n",
       "      <th>Sex</th>\n",
       "      <td>-51.845277</td>\n",
       "      <td>0.028024</td>\n",
       "      <td>-0.120301</td>\n",
       "      <td>0.237616</td>\n",
       "      <td>2.111318</td>\n",
       "      <td>1.066166</td>\n",
       "      <td>0.181822</td>\n",
       "      <td>3.870680</td>\n",
       "      <td>3.551131</td>\n",
       "    </tr>\n",
       "    <tr>\n",
       "      <th>AST</th>\n",
       "      <td>1955.686808</td>\n",
       "      <td>17.076894</td>\n",
       "      <td>29.501838</td>\n",
       "      <td>2.111318</td>\n",
       "      <td>1094.993787</td>\n",
       "      <td>203.262056</td>\n",
       "      <td>-15.220344</td>\n",
       "      <td>-35.213310</td>\n",
       "      <td>888.582229</td>\n",
       "    </tr>\n",
       "    <tr>\n",
       "      <th>BIL</th>\n",
       "      <td>634.294300</td>\n",
       "      <td>6.995437</td>\n",
       "      <td>6.427388</td>\n",
       "      <td>1.066166</td>\n",
       "      <td>203.262056</td>\n",
       "      <td>387.032823</td>\n",
       "      <td>-14.457076</td>\n",
       "      <td>30.563478</td>\n",
       "      <td>233.377730</td>\n",
       "    </tr>\n",
       "    <tr>\n",
       "      <th>CHE</th>\n",
       "      <td>-106.028355</td>\n",
       "      <td>-0.622509</td>\n",
       "      <td>-1.665432</td>\n",
       "      <td>0.181822</td>\n",
       "      <td>-15.220344</td>\n",
       "      <td>-14.457076</td>\n",
       "      <td>4.864924</td>\n",
       "      <td>-1.224421</td>\n",
       "      <td>-13.303611</td>\n",
       "    </tr>\n",
       "    <tr>\n",
       "      <th>CREA</th>\n",
       "      <td>-229.738599</td>\n",
       "      <td>6.633133</td>\n",
       "      <td>-11.154950</td>\n",
       "      <td>3.870680</td>\n",
       "      <td>-35.213310</td>\n",
       "      <td>30.563478</td>\n",
       "      <td>-1.224421</td>\n",
       "      <td>2475.676056</td>\n",
       "      <td>329.095812</td>\n",
       "    </tr>\n",
       "    <tr>\n",
       "      <th>GGT</th>\n",
       "      <td>2406.485179</td>\n",
       "      <td>23.096086</td>\n",
       "      <td>84.140023</td>\n",
       "      <td>3.551131</td>\n",
       "      <td>888.582229</td>\n",
       "      <td>233.377730</td>\n",
       "      <td>-13.303611</td>\n",
       "      <td>329.095812</td>\n",
       "      <td>2987.832709</td>\n",
       "    </tr>\n",
       "  </tbody>\n",
       "</table>\n",
       "</div>"
      ],
      "text/plain": [
       "              Unnamed: 0   Category         Age        Sex          AST  \\\n",
       "Unnamed: 0  31570.000000  81.138436  751.218241 -51.845277  1955.686808   \n",
       "Category       81.138436   0.708387    1.348378   0.028024    17.076894   \n",
       "Age           751.218241   1.348378  101.105146  -0.120301    29.501838   \n",
       "Sex           -51.845277   0.028024   -0.120301   0.237616     2.111318   \n",
       "AST          1955.686808  17.076894   29.501838   2.111318  1094.993787   \n",
       "BIL           634.294300   6.995437    6.427388   1.066166   203.262056   \n",
       "CHE          -106.028355  -0.622509   -1.665432   0.181822   -15.220344   \n",
       "CREA         -229.738599   6.633133  -11.154950   3.870680   -35.213310   \n",
       "GGT          2406.485179  23.096086   84.140023   3.551131   888.582229   \n",
       "\n",
       "                   BIL         CHE         CREA          GGT  \n",
       "Unnamed: 0  634.294300 -106.028355  -229.738599  2406.485179  \n",
       "Category      6.995437   -0.622509     6.633133    23.096086  \n",
       "Age           6.427388   -1.665432   -11.154950    84.140023  \n",
       "Sex           1.066166    0.181822     3.870680     3.551131  \n",
       "AST         203.262056  -15.220344   -35.213310   888.582229  \n",
       "BIL         387.032823  -14.457076    30.563478   233.377730  \n",
       "CHE         -14.457076    4.864924    -1.224421   -13.303611  \n",
       "CREA         30.563478   -1.224421  2475.676056   329.095812  \n",
       "GGT         233.377730  -13.303611   329.095812  2987.832709  "
      ]
     },
     "execution_count": 198,
     "metadata": {},
     "output_type": "execute_result"
    }
   ],
   "source": [
    "df.cov()"
   ]
  },
  {
   "cell_type": "code",
   "execution_count": 199,
   "id": "685c9d50",
   "metadata": {},
   "outputs": [
    {
     "data": {
      "text/html": [
       "<div>\n",
       "<style scoped>\n",
       "    .dataframe tbody tr th:only-of-type {\n",
       "        vertical-align: middle;\n",
       "    }\n",
       "\n",
       "    .dataframe tbody tr th {\n",
       "        vertical-align: top;\n",
       "    }\n",
       "\n",
       "    .dataframe thead th {\n",
       "        text-align: right;\n",
       "    }\n",
       "</style>\n",
       "<table border=\"1\" class=\"dataframe\">\n",
       "  <thead>\n",
       "    <tr style=\"text-align: right;\">\n",
       "      <th></th>\n",
       "      <th>Unnamed: 0</th>\n",
       "      <th>Category</th>\n",
       "      <th>Age</th>\n",
       "      <th>Sex</th>\n",
       "      <th>AST</th>\n",
       "      <th>BIL</th>\n",
       "      <th>CHE</th>\n",
       "      <th>CREA</th>\n",
       "      <th>GGT</th>\n",
       "    </tr>\n",
       "  </thead>\n",
       "  <tbody>\n",
       "    <tr>\n",
       "      <th>Unnamed: 0</th>\n",
       "      <td>1.000000</td>\n",
       "      <td>0.542568</td>\n",
       "      <td>0.420477</td>\n",
       "      <td>-0.598597</td>\n",
       "      <td>0.332626</td>\n",
       "      <td>0.181459</td>\n",
       "      <td>-0.270549</td>\n",
       "      <td>-0.025987</td>\n",
       "      <td>0.247781</td>\n",
       "    </tr>\n",
       "    <tr>\n",
       "      <th>Category</th>\n",
       "      <td>0.542568</td>\n",
       "      <td>1.000000</td>\n",
       "      <td>0.159327</td>\n",
       "      <td>0.068305</td>\n",
       "      <td>0.613151</td>\n",
       "      <td>0.422480</td>\n",
       "      <td>-0.335330</td>\n",
       "      <td>0.158393</td>\n",
       "      <td>0.502025</td>\n",
       "    </tr>\n",
       "    <tr>\n",
       "      <th>Age</th>\n",
       "      <td>0.420477</td>\n",
       "      <td>0.159327</td>\n",
       "      <td>1.000000</td>\n",
       "      <td>-0.024544</td>\n",
       "      <td>0.088666</td>\n",
       "      <td>0.032492</td>\n",
       "      <td>-0.075093</td>\n",
       "      <td>-0.022296</td>\n",
       "      <td>0.153087</td>\n",
       "    </tr>\n",
       "    <tr>\n",
       "      <th>Sex</th>\n",
       "      <td>-0.598597</td>\n",
       "      <td>0.068305</td>\n",
       "      <td>-0.024544</td>\n",
       "      <td>1.000000</td>\n",
       "      <td>0.130891</td>\n",
       "      <td>0.111177</td>\n",
       "      <td>0.169111</td>\n",
       "      <td>0.159589</td>\n",
       "      <td>0.133276</td>\n",
       "    </tr>\n",
       "    <tr>\n",
       "      <th>AST</th>\n",
       "      <td>0.332626</td>\n",
       "      <td>0.613151</td>\n",
       "      <td>0.088666</td>\n",
       "      <td>0.130891</td>\n",
       "      <td>1.000000</td>\n",
       "      <td>0.312231</td>\n",
       "      <td>-0.208536</td>\n",
       "      <td>-0.021387</td>\n",
       "      <td>0.491263</td>\n",
       "    </tr>\n",
       "    <tr>\n",
       "      <th>BIL</th>\n",
       "      <td>0.181459</td>\n",
       "      <td>0.422480</td>\n",
       "      <td>0.032492</td>\n",
       "      <td>0.111177</td>\n",
       "      <td>0.312231</td>\n",
       "      <td>1.000000</td>\n",
       "      <td>-0.333172</td>\n",
       "      <td>0.031224</td>\n",
       "      <td>0.217024</td>\n",
       "    </tr>\n",
       "    <tr>\n",
       "      <th>CHE</th>\n",
       "      <td>-0.270549</td>\n",
       "      <td>-0.335330</td>\n",
       "      <td>-0.075093</td>\n",
       "      <td>0.169111</td>\n",
       "      <td>-0.208536</td>\n",
       "      <td>-0.333172</td>\n",
       "      <td>1.000000</td>\n",
       "      <td>-0.011157</td>\n",
       "      <td>-0.110345</td>\n",
       "    </tr>\n",
       "    <tr>\n",
       "      <th>CREA</th>\n",
       "      <td>-0.025987</td>\n",
       "      <td>0.158393</td>\n",
       "      <td>-0.022296</td>\n",
       "      <td>0.159589</td>\n",
       "      <td>-0.021387</td>\n",
       "      <td>0.031224</td>\n",
       "      <td>-0.011157</td>\n",
       "      <td>1.000000</td>\n",
       "      <td>0.121003</td>\n",
       "    </tr>\n",
       "    <tr>\n",
       "      <th>GGT</th>\n",
       "      <td>0.247781</td>\n",
       "      <td>0.502025</td>\n",
       "      <td>0.153087</td>\n",
       "      <td>0.133276</td>\n",
       "      <td>0.491263</td>\n",
       "      <td>0.217024</td>\n",
       "      <td>-0.110345</td>\n",
       "      <td>0.121003</td>\n",
       "      <td>1.000000</td>\n",
       "    </tr>\n",
       "  </tbody>\n",
       "</table>\n",
       "</div>"
      ],
      "text/plain": [
       "            Unnamed: 0  Category       Age       Sex       AST       BIL  \\\n",
       "Unnamed: 0    1.000000  0.542568  0.420477 -0.598597  0.332626  0.181459   \n",
       "Category      0.542568  1.000000  0.159327  0.068305  0.613151  0.422480   \n",
       "Age           0.420477  0.159327  1.000000 -0.024544  0.088666  0.032492   \n",
       "Sex          -0.598597  0.068305 -0.024544  1.000000  0.130891  0.111177   \n",
       "AST           0.332626  0.613151  0.088666  0.130891  1.000000  0.312231   \n",
       "BIL           0.181459  0.422480  0.032492  0.111177  0.312231  1.000000   \n",
       "CHE          -0.270549 -0.335330 -0.075093  0.169111 -0.208536 -0.333172   \n",
       "CREA         -0.025987  0.158393 -0.022296  0.159589 -0.021387  0.031224   \n",
       "GGT           0.247781  0.502025  0.153087  0.133276  0.491263  0.217024   \n",
       "\n",
       "                 CHE      CREA       GGT  \n",
       "Unnamed: 0 -0.270549 -0.025987  0.247781  \n",
       "Category   -0.335330  0.158393  0.502025  \n",
       "Age        -0.075093 -0.022296  0.153087  \n",
       "Sex         0.169111  0.159589  0.133276  \n",
       "AST        -0.208536 -0.021387  0.491263  \n",
       "BIL        -0.333172  0.031224  0.217024  \n",
       "CHE         1.000000 -0.011157 -0.110345  \n",
       "CREA       -0.011157  1.000000  0.121003  \n",
       "GGT        -0.110345  0.121003  1.000000  "
      ]
     },
     "execution_count": 199,
     "metadata": {},
     "output_type": "execute_result"
    }
   ],
   "source": [
    "df.corr()"
   ]
  },
  {
   "cell_type": "markdown",
   "id": "7e7888de",
   "metadata": {},
   "source": [
    "## 10) Statistical Figures of Category Feature."
   ]
  },
  {
   "cell_type": "code",
   "execution_count": 200,
   "id": "318dac39",
   "metadata": {},
   "outputs": [
    {
     "data": {
      "text/plain": [
       "615"
      ]
     },
     "execution_count": 200,
     "metadata": {},
     "output_type": "execute_result"
    }
   ],
   "source": [
    "df['Category'].count()"
   ]
  },
  {
   "cell_type": "code",
   "execution_count": 201,
   "id": "e8a590d3",
   "metadata": {},
   "outputs": [
    {
     "data": {
      "text/plain": [
       "array([0, 4, 1, 2, 3], dtype=int64)"
      ]
     },
     "execution_count": 201,
     "metadata": {},
     "output_type": "execute_result"
    }
   ],
   "source": [
    "df['Category'].unique()"
   ]
  },
  {
   "cell_type": "markdown",
   "id": "8e5f2aad",
   "metadata": {},
   "source": [
    "## 11) Visualization "
   ]
  },
  {
   "cell_type": "markdown",
   "id": "1865b282",
   "metadata": {},
   "source": [
    "### (1) Heat Map"
   ]
  },
  {
   "cell_type": "code",
   "execution_count": 202,
   "id": "98d7884e",
   "metadata": {},
   "outputs": [
    {
     "data": {
      "image/png": "[encoded data removed]",
      "text/plain": [
       "<Figure size 432x288 with 2 Axes>"
      ]
     },
     "metadata": {
      "needs_background": "light"
     },
     "output_type": "display_data"
    }
   ],
   "source": [
    "sns.heatmap(df.corr(),annot=True)\n",
    "plt.title('Heatmap of Variable Correlations')\n",
    "plt.show()"
   ]
  },
  {
   "cell_type": "markdown",
   "id": "4e6b9847",
   "metadata": {},
   "source": [
    "#### Observation = Category has correlations with AST, BIL, GGT."
   ]
  },
  {
   "cell_type": "markdown",
   "id": "6c3d2ac6",
   "metadata": {},
   "source": [
    "## (2) Barplot"
   ]
  },
  {
   "cell_type": "markdown",
   "id": "e98fb579",
   "metadata": {},
   "source": [
    "### (A)Category vs Aspartate Transaminase"
   ]
  },
  {
   "cell_type": "code",
   "execution_count": 203,
   "id": "f99bb2ba",
   "metadata": {},
   "outputs": [
    {
     "data": {
      "image/png": "[encoded data removed]",
      "text/plain": [
       "<Figure size 720x360 with 1 Axes>"
      ]
     },
     "metadata": {
      "needs_background": "light"
     },
     "output_type": "display_data"
    }
   ],
   "source": [
    "plt.figure(figsize=(10,5))\n",
    "sns.barplot(x='Category',y='AST',data=df)\n",
    "plt.xlabel('Category')\n",
    "plt.ylabel('Aspartate Transaminase')\n",
    "plt.show()\n"
   ]
  },
  {
   "cell_type": "markdown",
   "id": "3e0f7e0a",
   "metadata": {},
   "source": [
    "### (B)Category vs Gamma-Glutamyl Transferase"
   ]
  },
  {
   "cell_type": "code",
   "execution_count": 204,
   "id": "5b417935",
   "metadata": {},
   "outputs": [
    {
     "data": {
      "image/png": "[encoded data removed]",
      "text/plain": [
       "<Figure size 720x360 with 1 Axes>"
      ]
     },
     "metadata": {
      "needs_background": "light"
     },
     "output_type": "display_data"
    }
   ],
   "source": [
    "plt.figure(figsize=(10,5))\n",
    "sns.barplot(x='Category',y='GGT',data=df)\n",
    "plt.title('Category vs Gamma-Glutamyl Transferase')\n",
    "plt.xlabel('Category')\n",
    "plt.ylabel('Gamma-Glutamyl Transferase')\n",
    "plt.show()"
   ]
  },
  {
   "cell_type": "markdown",
   "id": "5a55a0f6",
   "metadata": {},
   "source": [
    "### (C) Category vs Acetylcholinesterase"
   ]
  },
  {
   "cell_type": "code",
   "execution_count": 205,
   "id": "a296fd65",
   "metadata": {},
   "outputs": [
    {
     "data": {
      "image/png": "[encoded data removed]",
      "text/plain": [
       "<Figure size 720x360 with 1 Axes>"
      ]
     },
     "metadata": {
      "needs_background": "light"
     },
     "output_type": "display_data"
    }
   ],
   "source": [
    "plt.figure(figsize=(10,5))\n",
    "sns.barplot(x='Category',y='CHE',data=df)\n",
    "plt.title('Category vs Acetylcholinesterase')\n",
    "plt.xlabel('Category')\n",
    "plt.ylabel('Acetylcholinesterase')\n",
    "plt.show()"
   ]
  },
  {
   "cell_type": "markdown",
   "id": "753d0c8f",
   "metadata": {},
   "source": [
    "# 12) ML Model"
   ]
  },
  {
   "cell_type": "code",
   "execution_count": 206,
   "id": "96770a7f",
   "metadata": {},
   "outputs": [],
   "source": [
    "X = df.drop('Category',axis=1)\n",
    "y = df['Category']"
   ]
  },
  {
   "cell_type": "code",
   "execution_count": 207,
   "id": "a0053623",
   "metadata": {},
   "outputs": [],
   "source": [
    "from sklearn.model_selection import train_test_split"
   ]
  },
  {
   "cell_type": "code",
   "execution_count": 208,
   "id": "31e0eb70",
   "metadata": {},
   "outputs": [],
   "source": [
    "x_train,x_test,y_train,y_test = train_test_split(X,y,test_size = 0.3)"
   ]
  },
  {
   "cell_type": "markdown",
   "id": "d8ec8ac3",
   "metadata": {},
   "source": [
    "- Split our model into 70% - 30% ratio for the prediction."
   ]
  },
  {
   "cell_type": "markdown",
   "id": "f9aac193",
   "metadata": {},
   "source": [
    "# [A] Random Forest Model"
   ]
  },
  {
   "cell_type": "code",
   "execution_count": 209,
   "id": "eb85e19e",
   "metadata": {},
   "outputs": [],
   "source": [
    "from sklearn.ensemble import RandomForestClassifier"
   ]
  },
  {
   "cell_type": "code",
   "execution_count": 210,
   "id": "4bcf1f93",
   "metadata": {},
   "outputs": [],
   "source": [
    "model_rf = RandomForestClassifier()"
   ]
  },
  {
   "cell_type": "code",
   "execution_count": 211,
   "id": "f52706ff",
   "metadata": {},
   "outputs": [
    {
     "data": {
      "text/plain": [
       "RandomForestClassifier()"
      ]
     },
     "execution_count": 211,
     "metadata": {},
     "output_type": "execute_result"
    }
   ],
   "source": [
    "model_rf"
   ]
  },
  {
   "cell_type": "code",
   "execution_count": 212,
   "id": "23a778fa",
   "metadata": {},
   "outputs": [
    {
     "data": {
      "text/plain": [
       "RandomForestClassifier()"
      ]
     },
     "execution_count": 212,
     "metadata": {},
     "output_type": "execute_result"
    }
   ],
   "source": [
    "model_rf.fit(x_train,y_train)"
   ]
  },
  {
   "cell_type": "code",
   "execution_count": 213,
   "id": "c186a2b8",
   "metadata": {},
   "outputs": [],
   "source": [
    "y_predict_rf = model_rf.predict(x_test)"
   ]
  },
  {
   "cell_type": "code",
   "execution_count": 214,
   "id": "ea451409",
   "metadata": {},
   "outputs": [
    {
     "data": {
      "text/plain": [
       "array([0, 0, 0, 0, 0, 0, 0, 0, 1, 0, 0, 1, 0, 0, 0, 0, 0, 0, 0, 0, 0, 3,\n",
       "       0, 0, 0, 0, 0, 0, 0, 0, 0, 0, 0, 0, 0, 0, 0, 0, 0, 0, 0, 0, 3, 0,\n",
       "       0, 0, 0, 0, 0, 0, 0, 0, 0, 0, 0, 2, 0, 0, 0, 3, 0, 0, 0, 0, 0, 0,\n",
       "       0, 0, 0, 0, 3, 0, 1, 0, 0, 0, 0, 0, 0, 0, 0, 0, 0, 0, 0, 0, 0, 0,\n",
       "       0, 0, 1, 0, 0, 0, 0, 0, 0, 0, 0, 0, 0, 0, 2, 0, 0, 0, 0, 0, 0, 0,\n",
       "       0, 0, 0, 2, 0, 1, 0, 0, 0, 0, 0, 0, 0, 0, 0, 2, 0, 0, 0, 0, 0, 0,\n",
       "       0, 0, 0, 0, 0, 0, 0, 0, 0, 0, 0, 3, 0, 3, 0, 0, 0, 0, 1, 0, 0, 0,\n",
       "       0, 0, 0, 2, 0, 3, 0, 0, 0, 0, 0, 2, 0, 0, 0, 0, 0, 0, 0, 2, 0, 0,\n",
       "       0, 0, 0, 3, 0, 0, 0, 0, 0], dtype=int64)"
      ]
     },
     "execution_count": 214,
     "metadata": {},
     "output_type": "execute_result"
    }
   ],
   "source": [
    "y_predict_rf"
   ]
  },
  {
   "cell_type": "code",
   "execution_count": 215,
   "id": "9e4ab1c0",
   "metadata": {},
   "outputs": [],
   "source": [
    "from sklearn.metrics import accuracy_score"
   ]
  },
  {
   "cell_type": "code",
   "execution_count": 218,
   "id": "874dd65c",
   "metadata": {},
   "outputs": [],
   "source": [
    "A=accuracy_score(y_test,y_predict_rf)*100"
   ]
  },
  {
   "cell_type": "code",
   "execution_count": 219,
   "id": "3f049554",
   "metadata": {},
   "outputs": [
    {
     "data": {
      "text/plain": [
       "97.83783783783784"
      ]
     },
     "execution_count": 219,
     "metadata": {},
     "output_type": "execute_result"
    }
   ],
   "source": [
    "A"
   ]
  },
  {
   "cell_type": "markdown",
   "id": "6a6d22ba",
   "metadata": {},
   "source": [
    "- In the Random Forest Classifier we got accuracy of 97%."
   ]
  },
  {
   "cell_type": "markdown",
   "id": "c3729b2d",
   "metadata": {},
   "source": [
    "### Confusion Matrix for define the performance of Algorithm."
   ]
  },
  {
   "cell_type": "code",
   "execution_count": 220,
   "id": "b156e168",
   "metadata": {},
   "outputs": [],
   "source": [
    "from sklearn.metrics import plot_confusion_matrix"
   ]
  },
  {
   "cell_type": "code",
   "execution_count": 221,
   "id": "b53d16c9",
   "metadata": {
    "scrolled": false
   },
   "outputs": [
    {
     "data": {
      "image/png": "[encoded data removed]",
      "text/plain": [
       "<Figure size 432x288 with 2 Axes>"
      ]
     },
     "metadata": {
      "needs_background": "light"
     },
     "output_type": "display_data"
    }
   ],
   "source": [
    "plot_confusion_matrix(model_rf,x_test,y_test)\n",
    "plt.show()"
   ]
  },
  {
   "cell_type": "markdown",
   "id": "8f511eb8",
   "metadata": {},
   "source": [
    "### Classification Report of Random Forest."
   ]
  },
  {
   "cell_type": "code",
   "execution_count": 222,
   "id": "701df940",
   "metadata": {},
   "outputs": [],
   "source": [
    "from sklearn.metrics import classification_report"
   ]
  },
  {
   "cell_type": "code",
   "execution_count": 223,
   "id": "dd402e2d",
   "metadata": {},
   "outputs": [
    {
     "name": "stdout",
     "output_type": "stream",
     "text": [
      "              precision    recall  f1-score   support\n",
      "\n",
      "           0       1.00      1.00      1.00       164\n",
      "           1       1.00      0.86      0.92         7\n",
      "           2       0.71      0.71      0.71         7\n",
      "           3       0.75      0.86      0.80         7\n",
      "\n",
      "    accuracy                           0.98       185\n",
      "   macro avg       0.87      0.86      0.86       185\n",
      "weighted avg       0.98      0.98      0.98       185\n",
      "\n"
     ]
    }
   ],
   "source": [
    "print(classification_report(y_test, y_predict_rf))"
   ]
  },
  {
   "cell_type": "markdown",
   "id": "2a02a4ee",
   "metadata": {},
   "source": [
    "# [B] Decision Tree Model"
   ]
  },
  {
   "cell_type": "code",
   "execution_count": 224,
   "id": "9ae3f366",
   "metadata": {},
   "outputs": [],
   "source": [
    "from sklearn.tree import DecisionTreeClassifier "
   ]
  },
  {
   "cell_type": "code",
   "execution_count": 225,
   "id": "7443cb94",
   "metadata": {},
   "outputs": [],
   "source": [
    "model_dt = DecisionTreeClassifier()"
   ]
  },
  {
   "cell_type": "code",
   "execution_count": 226,
   "id": "8a6d4f42",
   "metadata": {},
   "outputs": [
    {
     "data": {
      "text/plain": [
       "DecisionTreeClassifier()"
      ]
     },
     "execution_count": 226,
     "metadata": {},
     "output_type": "execute_result"
    }
   ],
   "source": [
    "model_dt"
   ]
  },
  {
   "cell_type": "code",
   "execution_count": 227,
   "id": "db7de185",
   "metadata": {},
   "outputs": [
    {
     "data": {
      "text/plain": [
       "DecisionTreeClassifier()"
      ]
     },
     "execution_count": 227,
     "metadata": {},
     "output_type": "execute_result"
    }
   ],
   "source": [
    "model_dt.fit(x_train, y_train)"
   ]
  },
  {
   "cell_type": "code",
   "execution_count": 228,
   "id": "0ea768e4",
   "metadata": {},
   "outputs": [
    {
     "data": {
      "text/plain": [
       "100.0"
      ]
     },
     "execution_count": 228,
     "metadata": {},
     "output_type": "execute_result"
    }
   ],
   "source": [
    "B=model_dt.score(x_test, y_test)*100\n",
    "B"
   ]
  },
  {
   "cell_type": "markdown",
   "id": "26c16583",
   "metadata": {},
   "source": [
    "- In the Random Forest Classifier we got accuracy of 95%."
   ]
  },
  {
   "cell_type": "code",
   "execution_count": 229,
   "id": "77c645c5",
   "metadata": {},
   "outputs": [],
   "source": [
    "y_predict_dt = model_dt.predict(x_test)"
   ]
  },
  {
   "cell_type": "code",
   "execution_count": 230,
   "id": "32e815b8",
   "metadata": {
    "scrolled": true
   },
   "outputs": [
    {
     "data": {
      "text/plain": [
       "array([0, 0, 0, 0, 0, 0, 0, 0, 1, 0, 0, 1, 0, 0, 0, 0, 0, 0, 0, 0, 0, 2,\n",
       "       0, 0, 0, 0, 0, 0, 0, 0, 0, 0, 0, 0, 0, 0, 0, 0, 0, 0, 0, 0, 3, 0,\n",
       "       0, 0, 0, 0, 0, 0, 0, 0, 0, 0, 0, 2, 0, 0, 0, 3, 0, 0, 0, 0, 0, 0,\n",
       "       0, 0, 0, 0, 3, 0, 1, 0, 0, 0, 0, 0, 0, 0, 0, 0, 0, 0, 0, 0, 0, 0,\n",
       "       0, 0, 1, 0, 0, 0, 0, 0, 0, 0, 0, 0, 0, 0, 2, 0, 0, 0, 0, 0, 0, 0,\n",
       "       0, 0, 0, 3, 0, 1, 0, 0, 0, 0, 0, 0, 0, 0, 0, 1, 0, 0, 0, 0, 0, 0,\n",
       "       0, 0, 0, 0, 0, 0, 0, 0, 0, 0, 0, 3, 0, 3, 0, 0, 0, 0, 1, 0, 0, 0,\n",
       "       0, 0, 0, 2, 0, 2, 0, 0, 0, 0, 0, 2, 0, 0, 0, 0, 0, 0, 0, 2, 0, 0,\n",
       "       0, 0, 0, 3, 0, 0, 0, 0, 0], dtype=int64)"
      ]
     },
     "execution_count": 230,
     "metadata": {},
     "output_type": "execute_result"
    }
   ],
   "source": [
    "y_predict_dt"
   ]
  },
  {
   "cell_type": "markdown",
   "id": "0363662c",
   "metadata": {},
   "source": [
    "### Confusion Matrix"
   ]
  },
  {
   "cell_type": "code",
   "execution_count": 231,
   "id": "8cf95df7",
   "metadata": {},
   "outputs": [
    {
     "data": {
      "image/png": "[encoded data removed]",
      "text/plain": [
       "<Figure size 432x288 with 2 Axes>"
      ]
     },
     "metadata": {
      "needs_background": "light"
     },
     "output_type": "display_data"
    }
   ],
   "source": [
    "plot_confusion_matrix(model_dt,x_test,y_test)\n",
    "plt.show() "
   ]
  },
  {
   "cell_type": "markdown",
   "id": "85a2b494",
   "metadata": {},
   "source": [
    "### Classification Report of Decidion Tree."
   ]
  },
  {
   "cell_type": "code",
   "execution_count": 232,
   "id": "12f37e9e",
   "metadata": {},
   "outputs": [
    {
     "name": "stdout",
     "output_type": "stream",
     "text": [
      "              precision    recall  f1-score   support\n",
      "\n",
      "           0       1.00      1.00      1.00       164\n",
      "           1       1.00      1.00      1.00         7\n",
      "           2       1.00      1.00      1.00         7\n",
      "           3       1.00      1.00      1.00         7\n",
      "\n",
      "    accuracy                           1.00       185\n",
      "   macro avg       1.00      1.00      1.00       185\n",
      "weighted avg       1.00      1.00      1.00       185\n",
      "\n"
     ]
    }
   ],
   "source": [
    "print(classification_report(y_test, y_predict_dt))"
   ]
  },
  {
   "cell_type": "markdown",
   "id": "7ce1744b",
   "metadata": {},
   "source": [
    "# [C] SVM Model"
   ]
  },
  {
   "cell_type": "code",
   "execution_count": 233,
   "id": "ce3c306a",
   "metadata": {},
   "outputs": [],
   "source": [
    "from sklearn.svm import SVC"
   ]
  },
  {
   "cell_type": "code",
   "execution_count": 234,
   "id": "bf4aa78c",
   "metadata": {},
   "outputs": [],
   "source": [
    "model_svm = SVC()"
   ]
  },
  {
   "cell_type": "code",
   "execution_count": 235,
   "id": "2c895821",
   "metadata": {},
   "outputs": [
    {
     "data": {
      "text/plain": [
       "SVC()"
      ]
     },
     "execution_count": 235,
     "metadata": {},
     "output_type": "execute_result"
    }
   ],
   "source": [
    "model_svm"
   ]
  },
  {
   "cell_type": "code",
   "execution_count": 236,
   "id": "952fcf46",
   "metadata": {},
   "outputs": [
    {
     "data": {
      "text/plain": [
       "SVC()"
      ]
     },
     "execution_count": 236,
     "metadata": {},
     "output_type": "execute_result"
    }
   ],
   "source": [
    "model_svm.fit(x_train, y_train)"
   ]
  },
  {
   "cell_type": "code",
   "execution_count": 237,
   "id": "c73a60bc",
   "metadata": {},
   "outputs": [
    {
     "data": {
      "text/plain": [
       "94.05405405405406"
      ]
     },
     "execution_count": 237,
     "metadata": {},
     "output_type": "execute_result"
    }
   ],
   "source": [
    "C= model_svm.score(x_test, y_test)*100\n",
    "C"
   ]
  },
  {
   "cell_type": "markdown",
   "id": "a5f79838",
   "metadata": {},
   "source": [
    "- In the SVM we got accuracy of 96%."
   ]
  },
  {
   "cell_type": "code",
   "execution_count": 238,
   "id": "f1ce2ae1",
   "metadata": {},
   "outputs": [],
   "source": [
    "y_predict_svm = model_dt.predict(x_test)"
   ]
  },
  {
   "cell_type": "code",
   "execution_count": 239,
   "id": "df7b4577",
   "metadata": {
    "scrolled": true
   },
   "outputs": [
    {
     "data": {
      "text/plain": [
       "array([0, 0, 0, 0, 0, 0, 0, 0, 1, 0, 0, 1, 0, 0, 0, 0, 0, 0, 0, 0, 0, 2,\n",
       "       0, 0, 0, 0, 0, 0, 0, 0, 0, 0, 0, 0, 0, 0, 0, 0, 0, 0, 0, 0, 3, 0,\n",
       "       0, 0, 0, 0, 0, 0, 0, 0, 0, 0, 0, 2, 0, 0, 0, 3, 0, 0, 0, 0, 0, 0,\n",
       "       0, 0, 0, 0, 3, 0, 1, 0, 0, 0, 0, 0, 0, 0, 0, 0, 0, 0, 0, 0, 0, 0,\n",
       "       0, 0, 1, 0, 0, 0, 0, 0, 0, 0, 0, 0, 0, 0, 2, 0, 0, 0, 0, 0, 0, 0,\n",
       "       0, 0, 0, 3, 0, 1, 0, 0, 0, 0, 0, 0, 0, 0, 0, 1, 0, 0, 0, 0, 0, 0,\n",
       "       0, 0, 0, 0, 0, 0, 0, 0, 0, 0, 0, 3, 0, 3, 0, 0, 0, 0, 1, 0, 0, 0,\n",
       "       0, 0, 0, 2, 0, 2, 0, 0, 0, 0, 0, 2, 0, 0, 0, 0, 0, 0, 0, 2, 0, 0,\n",
       "       0, 0, 0, 3, 0, 0, 0, 0, 0], dtype=int64)"
      ]
     },
     "execution_count": 239,
     "metadata": {},
     "output_type": "execute_result"
    }
   ],
   "source": [
    "y_predict_svm"
   ]
  },
  {
   "cell_type": "markdown",
   "id": "fe736521",
   "metadata": {},
   "source": [
    "### Confusion Matrix"
   ]
  },
  {
   "cell_type": "code",
   "execution_count": 240,
   "id": "77464446",
   "metadata": {},
   "outputs": [
    {
     "data": {
      "image/png": "[encoded data removed]",
      "text/plain": [
       "<Figure size 432x288 with 2 Axes>"
      ]
     },
     "metadata": {
      "needs_background": "light"
     },
     "output_type": "display_data"
    }
   ],
   "source": [
    "plot_confusion_matrix(model_svm,x_test,y_test)\n",
    "plt.show() "
   ]
  },
  {
   "cell_type": "markdown",
   "id": "a94eff00",
   "metadata": {},
   "source": [
    "### Classification Report of SVM"
   ]
  },
  {
   "cell_type": "code",
   "execution_count": 241,
   "id": "6f307442",
   "metadata": {
    "scrolled": true
   },
   "outputs": [
    {
     "name": "stdout",
     "output_type": "stream",
     "text": [
      "              precision    recall  f1-score   support\n",
      "\n",
      "           0       1.00      1.00      1.00       164\n",
      "           1       1.00      1.00      1.00         7\n",
      "           2       1.00      1.00      1.00         7\n",
      "           3       1.00      1.00      1.00         7\n",
      "\n",
      "    accuracy                           1.00       185\n",
      "   macro avg       1.00      1.00      1.00       185\n",
      "weighted avg       1.00      1.00      1.00       185\n",
      "\n"
     ]
    }
   ],
   "source": [
    "print(classification_report(y_test, y_predict_svm))"
   ]
  },
  {
   "cell_type": "markdown",
   "id": "ae50db11",
   "metadata": {},
   "source": [
    "## Compare the Model"
   ]
  },
  {
   "cell_type": "code",
   "execution_count": 242,
   "id": "5b7cec82",
   "metadata": {},
   "outputs": [],
   "source": [
    "Models = pd.DataFrame({'Model': ['Random Forest', 'Decision Tree', 'SVM'], \n",
    "                        'Accuracy': [A, B, C]})"
   ]
  },
  {
   "cell_type": "code",
   "execution_count": 243,
   "id": "38249b74",
   "metadata": {},
   "outputs": [
    {
     "data": {
      "text/html": [
       "<div>\n",
       "<style scoped>\n",
       "    .dataframe tbody tr th:only-of-type {\n",
       "        vertical-align: middle;\n",
       "    }\n",
       "\n",
       "    .dataframe tbody tr th {\n",
       "        vertical-align: top;\n",
       "    }\n",
       "\n",
       "    .dataframe thead th {\n",
       "        text-align: right;\n",
       "    }\n",
       "</style>\n",
       "<table border=\"1\" class=\"dataframe\">\n",
       "  <thead>\n",
       "    <tr style=\"text-align: right;\">\n",
       "      <th></th>\n",
       "      <th>Model</th>\n",
       "      <th>Accuracy</th>\n",
       "    </tr>\n",
       "  </thead>\n",
       "  <tbody>\n",
       "    <tr>\n",
       "      <th>0</th>\n",
       "      <td>Random Forest</td>\n",
       "      <td>97.837838</td>\n",
       "    </tr>\n",
       "    <tr>\n",
       "      <th>1</th>\n",
       "      <td>Decision Tree</td>\n",
       "      <td>100.000000</td>\n",
       "    </tr>\n",
       "    <tr>\n",
       "      <th>2</th>\n",
       "      <td>SVM</td>\n",
       "      <td>94.054054</td>\n",
       "    </tr>\n",
       "  </tbody>\n",
       "</table>\n",
       "</div>"
      ],
      "text/plain": [
       "           Model    Accuracy\n",
       "0  Random Forest   97.837838\n",
       "1  Decision Tree  100.000000\n",
       "2            SVM   94.054054"
      ]
     },
     "execution_count": 243,
     "metadata": {},
     "output_type": "execute_result"
    }
   ],
   "source": [
    "Models"
   ]
  },
  {
   "cell_type": "code",
   "execution_count": 244,
   "id": "b9cb626b",
   "metadata": {},
   "outputs": [
    {
     "data": {
      "image/png": "[encoded data removed]",
      "text/plain": [
       "<Figure size 720x360 with 1 Axes>"
      ]
     },
     "metadata": {
      "needs_background": "light"
     },
     "output_type": "display_data"
    }
   ],
   "source": [
    "plt.figure(figsize=(10,5))\n",
    "sns.barplot(x='Model', y = 'Accuracy', data = Models, palette= 'coolwarm_r')\n",
    "plt.xlabel('Accuracy of Models', fontsize =10)\n",
    "plt.show()"
   ]
  },
  {
   "cell_type": "markdown",
   "id": "95c633ef",
   "metadata": {},
   "source": [
    "- In this we have observe that the Decision Tree Classifier has the Highest Accuracy 100%."
   ]
  },
  {
   "cell_type": "markdown",
   "id": "15aa3b90",
   "metadata": {},
   "source": [
    "# Conclusion"
   ]
  },
  {
   "cell_type": "markdown",
   "id": "236034e0",
   "metadata": {},
   "source": [
    "- The highest correlation with classification was found for AST (glutamate aminotransferase) test values, followed by BIL (bilirubin) and GGT (glutamyl transpeptidase).\n",
    "- Transaminases, bilirubin, and glutamyl transpeptidase showed positive correlation with the probability of disease, and the higher the value, the more severe the disease.\n",
    "- Age, sex, bilirubin, and cholesterol did not have a significant degree of association with the probability of disease.\n",
    "- The Decision Tree Classifier has the Highest Accuracy 100%."
   ]
  },
  {
   "cell_type": "code",
   "execution_count": null,
   "id": "0df3d28d",
   "metadata": {},
   "outputs": [],
   "source": []
  }
 ],
 "metadata": {
  "kernelspec": {
   "display_name": "Python 3 (ipykernel)",
   "language": "python",
   "name": "python3"
  },
  "language_info": {
   "codemirror_mode": {
    "name": "ipython",
    "version": 3
   },
   "file_extension": ".py",
   "mimetype": "text/x-python",
   "name": "python",
   "nbconvert_exporter": "python",
   "pygments_lexer": "ipython3",
   "version": "3.9.12"
  }
 },
 "nbformat": 4,
 "nbformat_minor": 5
}
